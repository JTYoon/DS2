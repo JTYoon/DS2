{
 "cells": [
  {
   "cell_type": "markdown",
   "metadata": {},
   "source": [
    "# 1. 20220110"
   ]
  },
  {
   "cell_type": "code",
   "execution_count": 2,
   "metadata": {},
   "outputs": [
    {
     "data": {
      "text/plain": [
       "['S', 'N', 'U']"
      ]
     },
     "execution_count": 2,
     "metadata": {},
     "output_type": "execute_result"
    }
   ],
   "source": [
    "myString = \"S N U\"\n",
    "myString.split()\n",
    "\n"
   ]
  },
  {
   "cell_type": "code",
   "execution_count": 3,
   "metadata": {},
   "outputs": [],
   "source": [
    "import numpy as np\n"
   ]
  },
  {
   "cell_type": "code",
   "execution_count": 2,
   "metadata": {},
   "outputs": [
    {
     "name": "stdout",
     "output_type": "stream",
     "text": [
      "\n",
      "A DEF\n"
     ]
    }
   ],
   "source": [
    "def enter_your_name():\n",
    "    first = input(\"First name?\")\n",
    "    last = input(\"Last name?\")\n",
    "    print()\n",
    "\n",
    "    print(first[0], last)\n",
    "\n",
    "enter_your_name()\n",
    "\n"
   ]
  },
  {
   "cell_type": "code",
   "execution_count": 4,
   "metadata": {},
   "outputs": [
    {
     "name": "stdout",
     "output_type": "stream",
     "text": [
      "abc 3\n"
     ]
    }
   ],
   "source": [
    "def sing(name):\n",
    "    print(\"abc %s\"%name)\n",
    "\n",
    "sing(3)\n"
   ]
  },
  {
   "cell_type": "code",
   "execution_count": 2,
   "metadata": {},
   "outputs": [
    {
     "data": {
      "text/plain": [
       "1.4142135623730951"
      ]
     },
     "execution_count": 2,
     "metadata": {},
     "output_type": "execute_result"
    }
   ],
   "source": [
    "import math\n",
    "math.sqrt(2)"
   ]
  },
  {
   "cell_type": "code",
   "execution_count": 6,
   "metadata": {},
   "outputs": [
    {
     "name": "stdout",
     "output_type": "stream",
     "text": [
      "1  2\n"
     ]
    }
   ],
   "source": [
    "a=1\n",
    "b=2\n",
    "\n",
    "print('%s '%a, '%s'%b)\n"
   ]
  },
  {
   "cell_type": "code",
   "execution_count": 7,
   "metadata": {},
   "outputs": [
    {
     "name": "stdout",
     "output_type": "stream",
     "text": [
      "1\n",
      "2\n",
      "3\n",
      "4\n",
      "5\n"
     ]
    }
   ],
   "source": [
    "def sum_many(*args):\n",
    "    for i in args:\n",
    "        print(i)\n",
    "\n",
    "sum_many(1,2,3,4,5,)"
   ]
  },
  {
   "cell_type": "code",
   "execution_count": 2,
   "metadata": {},
   "outputs": [
    {
     "name": "stdout",
     "output_type": "stream",
     "text": [
      "{'name': '정택', 'Birth Year': 1988}\n"
     ]
    }
   ],
   "source": [
    "dic ={'name':'정택', 'Birth Year':1988}\n",
    "print(dic)"
   ]
  },
  {
   "cell_type": "code",
   "execution_count": 4,
   "metadata": {},
   "outputs": [
    {
     "name": "stdout",
     "output_type": "stream",
     "text": [
      "(7, 12)\n"
     ]
    }
   ],
   "source": [
    "def sum_and_mul(a,b):\n",
    "    return a+b, a*b\n",
    "\n",
    "print(sum_and_mul(3,4))"
   ]
  },
  {
   "cell_type": "code",
   "execution_count": 7,
   "metadata": {},
   "outputs": [
    {
     "name": "stdout",
     "output_type": "stream",
     "text": [
      "5\n",
      "10\n",
      "10\n"
     ]
    }
   ],
   "source": [
    "a = 5\n",
    "def myfun():\n",
    "    global a\n",
    "    a = a+5\n",
    "    print(a)\n",
    "\n",
    "print(a)\n",
    "myfun()\n",
    "print(a)"
   ]
  },
  {
   "cell_type": "code",
   "execution_count": 8,
   "metadata": {},
   "outputs": [
    {
     "name": "stdout",
     "output_type": "stream",
     "text": [
      "0\n",
      "1\n",
      "2\n"
     ]
    }
   ],
   "source": [
    "for i in range(3):\n",
    "    print(i)\n",
    "    i+=1"
   ]
  },
  {
   "cell_type": "code",
   "execution_count": 9,
   "metadata": {},
   "outputs": [
    {
     "data": {
      "text/plain": [
       "{'__name__': '__main__',\n",
       " '__doc__': 'Automatically created module for IPython interactive environment',\n",
       " '__package__': None,\n",
       " '__loader__': None,\n",
       " '__spec__': None,\n",
       " '__builtin__': <module 'builtins' (built-in)>,\n",
       " '__builtins__': <module 'builtins' (built-in)>,\n",
       " '_ih': ['',\n",
       "  \"dic ={'name':'정택', 'Birth Year':1988}\\nprint(dic)\",\n",
       "  \"dic ={'name':'정택', 'Birth Year':1988}\\nprint(dic)\",\n",
       "  'def sum_and_mul(a,b):\\n    return a+b, a*b\\n\\nprint(sum_and_mul(3,4))',\n",
       "  'def sum_and_mul(a,b):\\n    return (a+b, a*b)\\n\\nprint(sum_and_mul(3,4))',\n",
       "  'a = 5\\ndef myfun():\\n    global a\\n    print(a)\\n\\nmyfun()',\n",
       "  'a = 5\\ndef myfun():\\n    global a\\n    a = a+5\\n    print(a)\\n\\nprint(a)\\nmyfun()',\n",
       "  'a = 5\\ndef myfun():\\n    global a\\n    a = a+5\\n    print(a)\\n\\nprint(a)\\nmyfun()\\nprint(a)',\n",
       "  'for i in range(3):\\n    print(i)\\n    i+=1',\n",
       "  'globals()'],\n",
       " '_oh': {},\n",
       " '_dh': ['d:\\\\DS2\\\\term1'],\n",
       " 'In': ['',\n",
       "  \"dic ={'name':'정택', 'Birth Year':1988}\\nprint(dic)\",\n",
       "  \"dic ={'name':'정택', 'Birth Year':1988}\\nprint(dic)\",\n",
       "  'def sum_and_mul(a,b):\\n    return a+b, a*b\\n\\nprint(sum_and_mul(3,4))',\n",
       "  'def sum_and_mul(a,b):\\n    return (a+b, a*b)\\n\\nprint(sum_and_mul(3,4))',\n",
       "  'a = 5\\ndef myfun():\\n    global a\\n    print(a)\\n\\nmyfun()',\n",
       "  'a = 5\\ndef myfun():\\n    global a\\n    a = a+5\\n    print(a)\\n\\nprint(a)\\nmyfun()',\n",
       "  'a = 5\\ndef myfun():\\n    global a\\n    a = a+5\\n    print(a)\\n\\nprint(a)\\nmyfun()\\nprint(a)',\n",
       "  'for i in range(3):\\n    print(i)\\n    i+=1',\n",
       "  'globals()'],\n",
       " 'Out': {},\n",
       " 'get_ipython': <bound method InteractiveShell.get_ipython of <ipykernel.zmqshell.ZMQInteractiveShell object at 0x000001F7191539A0>>,\n",
       " 'exit': <IPython.core.autocall.ZMQExitAutocall at 0x1f7191e76a0>,\n",
       " 'quit': <IPython.core.autocall.ZMQExitAutocall at 0x1f7191e76a0>,\n",
       " '_': '',\n",
       " '__': '',\n",
       " '___': '',\n",
       " 'os': <module 'os' from 'C:\\\\Users\\\\DS20\\\\Anaconda3\\\\lib\\\\os.py'>,\n",
       " 'sys': <module 'sys' (built-in)>,\n",
       " '_i': 'for i in range(3):\\n    print(i)\\n    i+=1',\n",
       " '_ii': 'a = 5\\ndef myfun():\\n    global a\\n    a = a+5\\n    print(a)\\n\\nprint(a)\\nmyfun()\\nprint(a)',\n",
       " '_iii': 'a = 5\\ndef myfun():\\n    global a\\n    a = a+5\\n    print(a)\\n\\nprint(a)\\nmyfun()',\n",
       " '_i1': \"dic ={'name':'정택', 'Birth Year':1988}\\nprint(dic)\",\n",
       " 'dic': {'name': '정택', 'Birth Year': 1988},\n",
       " '_i2': \"dic ={'name':'정택', 'Birth Year':1988}\\nprint(dic)\",\n",
       " '_i3': 'def sum_and_mul(a,b):\\n    return a+b, a*b\\n\\nprint(sum_and_mul(3,4))',\n",
       " 'sum_and_mul': <function __main__.sum_and_mul(a, b)>,\n",
       " '_i4': 'def sum_and_mul(a,b):\\n    return (a+b, a*b)\\n\\nprint(sum_and_mul(3,4))',\n",
       " '_i5': 'a = 5\\ndef myfun():\\n    global a\\n    print(a)\\n\\nmyfun()',\n",
       " 'a': 10,\n",
       " 'myfun': <function __main__.myfun()>,\n",
       " '_i6': 'a = 5\\ndef myfun():\\n    global a\\n    a = a+5\\n    print(a)\\n\\nprint(a)\\nmyfun()',\n",
       " '_i7': 'a = 5\\ndef myfun():\\n    global a\\n    a = a+5\\n    print(a)\\n\\nprint(a)\\nmyfun()\\nprint(a)',\n",
       " '_i8': 'for i in range(3):\\n    print(i)\\n    i+=1',\n",
       " 'i': 3,\n",
       " '_i9': 'globals()'}"
      ]
     },
     "execution_count": 9,
     "metadata": {},
     "output_type": "execute_result"
    }
   ],
   "source": [
    "globals()"
   ]
  },
  {
   "cell_type": "code",
   "execution_count": 10,
   "metadata": {},
   "outputs": [],
   "source": [
    "a = \"\"\"awefaewf\n",
    "asdfawef\n",
    "awefawef\"\"\"\n",
    "\n",
    "# asdf\n",
    "\n",
    "b = 'a'"
   ]
  },
  {
   "cell_type": "code",
   "execution_count": 11,
   "metadata": {},
   "outputs": [
    {
     "data": {
      "text/plain": [
       "\"Return the dictionary containing the current scope's global variables.\\n\\nNOTE: Updates to this dictionary *will* affect name lookups in the current\\nglobal scope and vice-versa.\""
      ]
     },
     "execution_count": 11,
     "metadata": {},
     "output_type": "execute_result"
    }
   ],
   "source": [
    "globals.__doc__"
   ]
  },
  {
   "cell_type": "code",
   "execution_count": 15,
   "metadata": {},
   "outputs": [
    {
     "data": {
      "text/plain": [
       "'a'"
      ]
     },
     "execution_count": 15,
     "metadata": {},
     "output_type": "execute_result"
    }
   ],
   "source": [
    "def samplefun():\n",
    "    \"\"\"This is sample function.\"\"\"\n",
    "    'a'\n",
    "    print(1)\n",
    "\n",
    "samplefun.__doc__\n",
    "\n"
   ]
  },
  {
   "cell_type": "code",
   "execution_count": 13,
   "metadata": {},
   "outputs": [
    {
     "data": {
      "text/plain": [
       "'samplefun'"
      ]
     },
     "execution_count": 13,
     "metadata": {},
     "output_type": "execute_result"
    }
   ],
   "source": [
    "samplefun.__name__"
   ]
  },
  {
   "cell_type": "code",
   "execution_count": 25,
   "metadata": {},
   "outputs": [
    {
     "data": {
      "text/plain": [
       "1.2661036727794992"
      ]
     },
     "execution_count": 25,
     "metadata": {},
     "output_type": "execute_result"
    }
   ],
   "source": [
    "import math\n",
    "math.acos(0.3)"
   ]
  },
  {
   "cell_type": "code",
   "execution_count": 26,
   "metadata": {},
   "outputs": [
    {
     "data": {
      "text/plain": [
       "1641799953.2284174"
      ]
     },
     "execution_count": 26,
     "metadata": {},
     "output_type": "execute_result"
    }
   ],
   "source": [
    "import time\n",
    "time.time()"
   ]
  },
  {
   "cell_type": "code",
   "execution_count": null,
   "metadata": {},
   "outputs": [],
   "source": [
    "ㅁㅁㅁㅁㅁㅁㅁㅁ\n"
   ]
  }
 ],
 "metadata": {
  "interpreter": {
   "hash": "0fe6565f0dda49c197cff5cf9b4a173ac9c1107e08a3f764dd1f5d069c3294fd"
  },
  "kernelspec": {
   "display_name": "Python 3.9.7 64-bit ('base': conda)",
   "language": "python",
   "name": "python3"
  },
  "language_info": {
   "codemirror_mode": {
    "name": "ipython",
    "version": 3
   },
   "file_extension": ".py",
   "mimetype": "text/x-python",
   "name": "python",
   "nbconvert_exporter": "python",
   "pygments_lexer": "ipython3",
   "version": "3.9.7"
  },
  "orig_nbformat": 4
 },
 "nbformat": 4,
 "nbformat_minor": 2
}
